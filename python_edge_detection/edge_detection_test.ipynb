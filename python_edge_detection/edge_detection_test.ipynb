{
 "cells": [
  {
   "cell_type": "code",
   "execution_count": 97,
   "metadata": {},
   "outputs": [],
   "source": [
    "import matplotlib.pyplot as plt\n",
    "import numpy as np\n",
    "import cv2"
   ]
  },
  {
   "cell_type": "code",
   "execution_count": 98,
   "metadata": {},
   "outputs": [],
   "source": [
    "image = cv2.imread(r\"C:\\Users\\markd\\Documents\\GitHub\\ArticusMaximus\\python_edge_detection\\sample_images\\circle.png\")\n",
    "image = cv2.resize(image, (int(image.shape[1]/2), int(image.shape[0]/2)), interpolation=cv2.INTER_AREA)\n",
    "cv2.imshow(\"image\", image)\n",
    "cv2.waitKey(0)\n",
    "cv2.destroyAllWindows() "
   ]
  },
  {
   "cell_type": "code",
   "execution_count": 99,
   "metadata": {},
   "outputs": [],
   "source": [
    "# Grayscale\n",
    "gray = cv2.cvtColor(image, cv2.COLOR_BGR2GRAY)\n",
    "cv2.imshow(\"gray\", gray)\n",
    "cv2.waitKey(0)\n",
    "cv2.destroyAllWindows()"
   ]
  },
  {
   "cell_type": "code",
   "execution_count": 100,
   "metadata": {},
   "outputs": [],
   "source": [
    "# Threshold\n",
    "ret, thresh = cv2.threshold(gray, 100, 225, cv2.THRESH_BINARY)\n",
    "cv2.imshow(\"threshold\", thresh)\n",
    "cv2.waitKey(0)\n",
    "cv2.destroyAllWindows()"
   ]
  },
  {
   "cell_type": "code",
   "execution_count": 101,
   "metadata": {},
   "outputs": [],
   "source": [
    "# Blur \n",
    "blur = cv2.GaussianBlur(gray, (5,5), sigmaX=0, sigmaY=0)\n",
    "cv2.imshow(\"blur\", blur)\n",
    "cv2.waitKey(0)\n",
    "cv2.destroyAllWindows()"
   ]
  },
  {
   "cell_type": "code",
   "execution_count": 102,
   "metadata": {},
   "outputs": [],
   "source": [
    "# Canny\n",
    "canny = cv2.Canny(gray, 30, 200)\n",
    "cv2.imshow(\"Canny\", canny)\n",
    "cv2.waitKey(0)\n",
    "cv2.destroyAllWindows()"
   ]
  },
  {
   "cell_type": "code",
   "execution_count": 103,
   "metadata": {},
   "outputs": [],
   "source": [
    "# Canny w blur\n",
    "canny_blur = cv2.Canny(blur, 30, 200)\n",
    "cv2.imshow(\"Canny w blur\", canny_blur)\n",
    "cv2.waitKey(0)\n",
    "cv2.destroyAllWindows()"
   ]
  },
  {
   "cell_type": "code",
   "execution_count": 104,
   "metadata": {},
   "outputs": [],
   "source": [
    "def perp_distance(pstart, pend, point):\n",
    "\n",
    "    vectoru = np.array([point[0] - pstart[0], point[1] - pstart[1]])\n",
    "    vectorv = np.array([pend[0] - pstart[0], pend[1] - pstart[1]])\n",
    "\n",
    "    #finding  projection vector\n",
    "    v_norm = np.sqrt(vectorv[0]**2 + vectorv[1]**2)\n",
    "    proj_u_on_v = np.array([np.dot(vectoru, vectorv) / v_norm**2 * vectorv[0], np.dot(vectoru, vectorv) / v_norm**2 * vectorv[1]])\n",
    "\n",
    "    #finding perpendicular vector\n",
    "    perp_u_on_v = np.array([vectoru[0] - proj_u_on_v[0], vectoru[1] - proj_u_on_v[1]])\n",
    "\n",
    "    return np.sqrt(perp_u_on_v[0]**2 + perp_u_on_v[1]**2)\n",
    "\n",
    "def remove_duplicate_points(contour):\n",
    "    i = 0\n",
    "    num_deleted = 0\n",
    "    while i  < contour.shape[0] - 1:\n",
    "        if np.array_equal(contour[i - num_deleted], contour[i+1 - num_deleted]):\n",
    "            contour = np.delete(contour, i - num_deleted, 0)\n",
    "            print(f\"point {i - num_deleted} deleted\")\n",
    "            print(contour)\n",
    "            num_deleted += 1\n",
    "        i += 1\n",
    "    return contour\n",
    "            \n",
    "\n",
    "def Douglas_Peucker(points:np.array, epsilon:int):\n",
    "    #max distance and index of the distance\n",
    "    dmax = 0\n",
    "    index = 0\n",
    "\n",
    "    #for all points find distance and set dmax if largest\n",
    "    for i, value in enumerate(points):\n",
    "        distance = perp_distance(points[0], points[len(points)-1], points[i])\n",
    "        if distance > dmax:\n",
    "            dmax = distance\n",
    "            index = i\n",
    "    result_list = np.array([])\n",
    "\n",
    "    #recursive algorithm\n",
    "    if (dmax > epsilon):\n",
    "        upper_recursive = Douglas_Peucker(points[0:index], epsilon)\n",
    "        lower_recursive = Douglas_Peucker(points[index:len(points)], epsilon)\n",
    "        \n",
    "        #build resulting list\n",
    "        result_list = np.concatenate((lower_recursive[0:(len(lower_recursive) - 1)], upper_recursive[0:len(upper_recursive - 1)]), axis=0)\n",
    "    else:\n",
    "        result_list = np.array([points[0], points[len(points)-1]])\n",
    "\n",
    "    # return value\n",
    "    return result_list\n",
    "\n",
    "def remove_small_contours(contours:list, min_points_thresh:int):\n",
    "    i = 0\n",
    "    while i < len(contours):\n",
    "        if contours[i].shape[0] <= min_points_thresh:\n",
    "            contours.pop(i)\n",
    "            print(f'{i} contour dropped')\n",
    "        i += 1\n",
    "    \n",
    "    return contours\n",
    "\n",
    "def remove_duplicate_contours(contours, match_thresh, pixel_thresh):\n",
    "    # Checking contour pairs\n",
    "    i = 0\n",
    "    num_deleted = 0\n",
    "    while(i < len(contours) - 1):\n",
    "        # print(f'{ i } and {i + 1}: {cv2.matchShapes(contours[i], contours[i+1], cv2.CONTOURS_MATCH_I3,0)}')\n",
    "        # print(f'{contours[i].mean()} and {contours[i+1].mean()}')\n",
    "        match_score = cv2.matchShapes(contours[i - num_deleted], contours[i+1 - num_deleted], cv2.CONTOURS_MATCH_I3,0)\n",
    "        # Remove contours with same shape in same location\n",
    "        if match_score < match_thresh:\n",
    "            mean_1 = contours[i - num_deleted].mean()\n",
    "            mean_2 = contours[i+1 - num_deleted].mean()\n",
    "            if (abs(mean_1 - mean_2) < pixel_thresh):\n",
    "                contours.pop(i - num_deleted)\n",
    "                # print(\"contour popped\")\n",
    "        i += 1\n",
    "    \n",
    "    return contours"
   ]
  },
  {
   "cell_type": "code",
   "execution_count": 108,
   "metadata": {},
   "outputs": [
    {
     "name": "stderr",
     "output_type": "stream",
     "text": [
      "C:\\Users\\markd\\AppData\\Local\\Temp\\ipykernel_15688\\4167770365.py:8: RuntimeWarning: invalid value encountered in double_scalars\n",
      "  proj_u_on_v = np.array([np.dot(vectoru, vectorv) / v_norm**2 * vectorv[0], np.dot(vectoru, vectorv) / v_norm**2 * vectorv[1]])\n"
     ]
    },
    {
     "data": {
      "image/png": "[encoded data removed]",
      "text/plain": [
       "<Figure size 640x480 with 1 Axes>"
      ]
     },
     "metadata": {},
     "output_type": "display_data"
    }
   ],
   "source": [
    "# Find contours from canny blurred image\n",
    "contours, hierarchy = cv2.findContours(canny_blur, \n",
    "    cv2.RETR_TREE , cv2.CHAIN_APPROX_SIMPLE)\n",
    "\n",
    "# Epsilon value for Douglas Peucker algorithm, bigger == less details\n",
    "epsilon = 1\n",
    "\n",
    "# Filter out small contours and duplicate contours\n",
    "contours = list(contours)\n",
    "contours = remove_small_contours(contours, 2)\n",
    "contours = remove_duplicate_contours(contours, 0.05, 10)\n",
    "\n",
    "# Simpifly all contours\n",
    "i = 0\n",
    "while (i < len(contours)):\n",
    "    # Contours is in [[],] shape, squeeze to simplify \n",
    "    contours[i] = np.squeeze(contours[i])\n",
    "    # Remove any two points that are the same & next to each other\n",
    "    contours[i] = remove_duplicate_points(contours[i])\n",
    "    # Douglas Peucker Algorithm\n",
    "    contours[i] = Douglas_Peucker(contours[i], epsilon)\n",
    "    # Close contour (connect back to starting point)\n",
    "    contours[i][-1] = contours[i][0]\n",
    "    # Remove any duplicates resulting from Douglas Peucker\n",
    "    contours[i] = remove_duplicate_points(contours[i])\n",
    "    i += 1\n",
    "\n",
    "# Filter again after simplifying \n",
    "contours = remove_small_contours(contours, 2)\n",
    "contours = remove_duplicate_contours(contours, 0.05, 10)\n",
    "\n",
    "# Display results \n",
    "for i in range(len(contours)):\n",
    "    plt.xlim(400)\n",
    "    plt.ylim(400)\n",
    "    plt.plot(contours[i][:,0], contours[i][:,1], label=f'{i}')\n",
    "plt.show()\n",
    "\n",
    "# Write contours to file\n",
    "f = open(\"contour_output.txt\", 'w')\n",
    "k = 0\n",
    "for contour in contours:\n",
    "    f.write(f'---- CONTOUR {k} ----\\n')\n",
    "    k += 1\n",
    "    for i in range(len(contour)):\n",
    "        f.write(str(contour[i, 0]))\n",
    "        f.write(\" \")\n",
    "        f.write(str(contour[i, 1]))\n",
    "        f.write(\" \\n\")\n",
    "\n",
    "f.close()\n"
   ]
  },
  {
   "cell_type": "code",
   "execution_count": 106,
   "metadata": {},
   "outputs": [
    {
     "data": {
      "text/plain": [
       "numpy.ndarray"
      ]
     },
     "execution_count": 106,
     "metadata": {},
     "output_type": "execute_result"
    }
   ],
   "source": [
    "type(contours[0])"
   ]
  },
  {
   "cell_type": "code",
   "execution_count": null,
   "metadata": {},
   "outputs": [],
   "source": []
  }
 ],
 "metadata": {
  "kernelspec": {
   "display_name": "articus_venv",
   "language": "python",
   "name": "python3"
  },
  "language_info": {
   "codemirror_mode": {
    "name": "ipython",
    "version": 3
   },
   "file_extension": ".py",
   "mimetype": "text/x-python",
   "name": "python",
   "nbconvert_exporter": "python",
   "pygments_lexer": "ipython3",
   "version": "3.11.2"
  },
  "orig_nbformat": 4
 },
 "nbformat": 4,
 "nbformat_minor": 2
}
