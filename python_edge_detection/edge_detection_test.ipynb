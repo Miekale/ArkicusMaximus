{
 "cells": [
  {
   "cell_type": "code",
   "execution_count": null,
   "metadata": {},
   "outputs": [],
   "source": [
    "import matplotlib.pyplot as plt\n",
    "import numpy as np\n",
    "import cv2"
   ]
  },
  {
   "cell_type": "code",
   "execution_count": null,
   "metadata": {},
   "outputs": [],
   "source": [
    "image = cv2.imread(\"/home/miekale/Documents/github/ArticusMaximus/python_edge_detection/sample_images/amogus.png\")\n",
    "image = cv2.resize(image, (int(image.shape[1]/2), int(image.shape[0]/2)), interpolation=cv2.INTER_AREA)\n",
    "cv2.imshow(\"image\", image)\n",
    "cv2.waitKey(0)\n",
    "cv2.destroyAllWindows() "
   ]
  },
  {
   "cell_type": "code",
   "execution_count": null,
   "metadata": {},
   "outputs": [],
   "source": [
    "# Grayscale\n",
    "gray = cv2.cvtColor(image, cv2.COLOR_BGR2GRAY)\n",
    "cv2.imshow(\"gray\", gray)\n",
    "cv2.waitKey(0)\n",
    "cv2.destroyAllWindows()"
   ]
  },
  {
   "cell_type": "code",
   "execution_count": null,
   "metadata": {},
   "outputs": [],
   "source": [
    "# Threshold\n",
    "ret, thresh = cv2.threshold(gray, 100, 225, cv2.THRESH_BINARY)\n",
    "cv2.imshow(\"threshold\", thresh)\n",
    "cv2.waitKey(0)\n",
    "cv2.destroyAllWindows()"
   ]
  },
  {
   "cell_type": "code",
   "execution_count": null,
   "metadata": {},
   "outputs": [],
   "source": [
    "# Blur \n",
    "blur = cv2.GaussianBlur(gray, (5,5), sigmaX=0, sigmaY=0)\n",
    "cv2.imshow(\"blur\", blur)\n",
    "cv2.waitKey(0)\n",
    "cv2.destroyAllWindows()"
   ]
  },
  {
   "cell_type": "code",
   "execution_count": null,
   "metadata": {},
   "outputs": [],
   "source": [
    "# Canny\n",
    "canny = cv2.Canny(gray, 30, 200)\n",
    "cv2.imshow(\"Canny\", canny)\n",
    "cv2.waitKey(0)\n",
    "cv2.destroyAllWindows()"
   ]
  },
  {
   "cell_type": "code",
   "execution_count": null,
   "metadata": {},
   "outputs": [],
   "source": [
    "# Canny w blur\n",
    "canny_blur = cv2.Canny(blur, 30, 200)\n",
    "cv2.imshow(\"Canny w blur\", canny_blur)\n",
    "cv2.waitKey(0)\n",
    "cv2.destroyAllWindows()"
   ]
  },
  {
   "cell_type": "code",
   "execution_count": null,
   "metadata": {},
   "outputs": [],
   "source": [
    "def perp_distance(pstart, pend, point):\n",
    "\n",
    "    vectoru = np.array([point[0] - pstart[0], point[1] - pstart[1]])\n",
    "    vectorv = np.array([pend[0] - pstart[0], pend[1] - pstart[1]])\n",
    "\n",
    "    #finding  projection vector\n",
    "    v_norm = np.sqrt(vectorv[0]**2 + vectorv[1]**2)\n",
    "    proj_u_on_v = np.array([np.dot(vectoru, vectorv) / v_norm**2 * vectorv[0], np.dot(vectoru, vectorv) / v_norm**2 * vectorv[1]])\n",
    "\n",
    "    #finding perpendicular vector\n",
    "    perp_u_on_v = np.array([vectoru[0] - proj_u_on_v[0], vectoru[1] - proj_u_on_v[1]])\n",
    "\n",
    "    return np.sqrt(perp_u_on_v[0]**2 + perp_u_on_v[1]**2)\n",
    "\n",
    "\n",
    "def Douglas_Peucker(points, epsilon):\n",
    "    #max distance and index of the distance\n",
    "    dmax = 0\n",
    "    index = 0\n",
    "\n",
    "    #for all points find distance and set dmax if largest\n",
    "    for i, value in enumerate(points):\n",
    "        distance = perp_distance(points[0], points[len(points)-1], points[i])\n",
    "        if distance > dmax:\n",
    "            dmax = distance\n",
    "            index = i\n",
    "    result_list = np.array([])\n",
    "\n",
    "    #recursive algorithm\n",
    "    if (dmax > epsilon):\n",
    "        upper_recursive = Douglas_Peucker(points[0:index], epsilon)\n",
    "        lower_recursive = Douglas_Peucker(points[index:len(points)], epsilon)\n",
    "        \n",
    "        #build resulting list\n",
    "        result_list = np.concatenate((lower_recursive[0:(len(lower_recursive) - 1)], upper_recursive[0:len(upper_recursive - 1)]), axis=0)\n",
    "    else:\n",
    "        result_list = np.array([points[0], points[len(points)-1]])\n",
    "\n",
    "    # return value\n",
    "    return result_list\n",
    "    \n",
    "\n",
    "epsilon = 3\n",
    "\n",
    "contours, hierarchy = cv2.findContours(canny_blur, \n",
    "    cv2.RETR_TREE , cv2.CHAIN_APPROX_SIMPLE)\n",
    "\n",
    "num_contours = len(contours)\n",
    "\n",
    "for i in range(num_contours):\n",
    "    contour_img = contours[i]\n",
    "    if contour_img.shape[0] != 1:\n",
    "        contour_img = np.squeeze(contour_img)\n",
    "        contour_img = Douglas_Peucker(contour_img, epsilon)\n",
    "        plt.plot(contour_img[:,0], contour_img[:,1], label=f'{i}')\n",
    "plt.show()\n",
    "\n",
    "\n"
   ]
  },
  {
   "cell_type": "code",
   "execution_count": null,
   "metadata": {},
   "outputs": [],
   "source": [
    "# All contours\n",
    "# Contour detection\n",
    "contours, hierarchy = cv2.findContours(canny_blur, \n",
    "    cv2.RETR_EXTERNAL, cv2.CHAIN_APPROX_SIMPLE)\n",
    "\n",
    "num_contours = len(contours)\n",
    "print(num_contours)\n",
    "for i in range(num_contours):\n",
    "    contour_img = contours[i]\n",
    "    if contour_img.shape[0] != 1:\n",
    "        contour_img = np.squeeze(contour_img)\n",
    "        # contour_img = cv2.flip(contour_img,0)\n",
    "        plt.plot(contour_img[:,0], contour_img[:,1], label=f'{i}')\n",
    "plt.show()\n",
    "\n",
    "\n",
    "contours, hierarchy = cv2.findContours(canny_blur, \n",
    "    cv2.RETR_TREE , cv2.CHAIN_APPROX_SIMPLE)\n",
    "\n",
    "num_contours = len(contours)\n",
    "print(num_contours)\n",
    "for i in range(num_contours):\n",
    "    contour_img = cv2.flip(contours[i], 0)\n",
    "    if contour_img.shape[0] != 1:\n",
    "        contour_img = np.squeeze(contour_img)\n",
    "        plt.plot(contour_img[:,0], contour_img[:,1], label=f'{i}')\n",
    "plt.show()\n",
    "\n",
    "contours, hierarchy = cv2.findContours(canny_blur, \n",
    "    cv2.RETR_TREE , cv2.CHAIN_APPROX_SIMPLE)\n",
    "\n",
    "num_contours = len(contours)\n",
    "print(num_contours)\n",
    "for i in range(num_contours):\n",
    "    contour_img = contours[i]\n",
    "    if contour_img.shape[0] != 1:\n",
    "        contour_img = np.squeeze(contour_img)\n",
    "        plt.plot(contour_img[:,0], contour_img[:,1], label=f'{i}')\n",
    "plt.show()"
   ]
  },
  {
   "cell_type": "code",
   "execution_count": null,
   "metadata": {},
   "outputs": [],
   "source": [
    "contours, hierarchy = cv2.findContours(canny_blur, \n",
    "    cv2.RETR_TREE , cv2.CHAIN_APPROX_SIMPLE)\n",
    "\n",
    "cv2.drawContours(image, contours, -1, (0, 255, 0), 3)\n",
    "cv2.imshow('Contours', image)\n",
    "cv2.waitKey(0)\n",
    "cv2.destroyAllWindows()"
   ]
  }
 ],
 "metadata": {
  "kernelspec": {
   "display_name": "articus_venv",
   "language": "python",
   "name": "python3"
  },
  "language_info": {
   "codemirror_mode": {
    "name": "ipython",
    "version": 3
   },
   "file_extension": ".py",
   "mimetype": "text/x-python",
   "name": "python",
   "nbconvert_exporter": "python",
   "pygments_lexer": "ipython3",
   "version": "3.11.4"
  },
  "orig_nbformat": 4
 },
 "nbformat": 4,
 "nbformat_minor": 2
}
